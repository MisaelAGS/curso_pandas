{
 "cells": [
  {
   "cell_type": "code",
   "execution_count": 45,
   "id": "b567c36c",
   "metadata": {},
   "outputs": [
    {
     "data": {
      "text/html": [
       "<div>\n",
       "<style scoped>\n",
       "    .dataframe tbody tr th:only-of-type {\n",
       "        vertical-align: middle;\n",
       "    }\n",
       "\n",
       "    .dataframe tbody tr th {\n",
       "        vertical-align: top;\n",
       "    }\n",
       "\n",
       "    .dataframe thead th {\n",
       "        text-align: right;\n",
       "    }\n",
       "</style>\n",
       "<table border=\"1\" class=\"dataframe\">\n",
       "  <thead>\n",
       "    <tr style=\"text-align: right;\">\n",
       "      <th></th>\n",
       "      <th>idCliente</th>\n",
       "      <th>flEmail</th>\n",
       "      <th>flTwitch</th>\n",
       "      <th>flYouTube</th>\n",
       "      <th>flBlueSky</th>\n",
       "      <th>flInstagram</th>\n",
       "      <th>qtdePontos</th>\n",
       "      <th>dtCriacao</th>\n",
       "      <th>dtAtualizacao</th>\n",
       "    </tr>\n",
       "  </thead>\n",
       "  <tbody>\n",
       "    <tr>\n",
       "      <th>0</th>\n",
       "      <td>000ff655-fa9f-4baa-a108-47f581ec52a1</td>\n",
       "      <td>0</td>\n",
       "      <td>0</td>\n",
       "      <td>0</td>\n",
       "      <td>0</td>\n",
       "      <td>0</td>\n",
       "      <td>686</td>\n",
       "      <td>NaN</td>\n",
       "      <td>NaN</td>\n",
       "    </tr>\n",
       "    <tr>\n",
       "      <th>1</th>\n",
       "      <td>001749bd-37b5-4b1e-8111-f9fbba90f530</td>\n",
       "      <td>0</td>\n",
       "      <td>0</td>\n",
       "      <td>0</td>\n",
       "      <td>0</td>\n",
       "      <td>0</td>\n",
       "      <td>50</td>\n",
       "      <td>NaN</td>\n",
       "      <td>NaN</td>\n",
       "    </tr>\n",
       "  </tbody>\n",
       "</table>\n",
       "</div>"
      ],
      "text/plain": [
       "                              idCliente  flEmail  flTwitch  flYouTube  \\\n",
       "0  000ff655-fa9f-4baa-a108-47f581ec52a1        0         0          0   \n",
       "1  001749bd-37b5-4b1e-8111-f9fbba90f530        0         0          0   \n",
       "\n",
       "   flBlueSky  flInstagram  qtdePontos dtCriacao dtAtualizacao  \n",
       "0          0            0         686       NaN           NaN  \n",
       "1          0            0          50       NaN           NaN  "
      ]
     },
     "execution_count": 45,
     "metadata": {},
     "output_type": "execute_result"
    }
   ],
   "source": [
    "import pandas as pd\n",
    "\n",
    "df = pd.read_csv(\"../data/clientes.csv\")\n",
    "df.head(2)"
   ]
  },
  {
   "cell_type": "code",
   "execution_count": 46,
   "id": "38cfe736",
   "metadata": {},
   "outputs": [
    {
     "data": {
      "text/plain": [
       "0        686.0\n",
       "1         50.0\n",
       "2          2.0\n",
       "3       1090.0\n",
       "4          0.0\n",
       "         ...  \n",
       "2431     111.0\n",
       "2432      54.0\n",
       "2433     162.0\n",
       "2434      57.0\n",
       "2435      50.0\n",
       "Name: qtdePontos, Length: 2436, dtype: float64"
      ]
     },
     "execution_count": 46,
     "metadata": {},
     "output_type": "execute_result"
    }
   ],
   "source": [
    "df[\"qtdePontos\"].astype(float)"
   ]
  },
  {
   "cell_type": "code",
   "execution_count": 47,
   "id": "ce362151",
   "metadata": {},
   "outputs": [
    {
     "data": {
      "text/plain": [
       "0                           NaN\n",
       "1                           NaN\n",
       "2                           NaN\n",
       "3       0000-00-00 00:00:00.000\n",
       "4                           NaN\n",
       "                 ...           \n",
       "2431                        NaN\n",
       "2432    2025-01-21 11:49:58.172\n",
       "2433                        NaN\n",
       "2434    2025-02-10 11:12:30.631\n",
       "2435                        NaN\n",
       "Name: dtCriacao, Length: 2436, dtype: object"
      ]
     },
     "execution_count": 47,
     "metadata": {},
     "output_type": "execute_result"
    }
   ],
   "source": [
    "# Convertendo para o tipo data\n",
    "df[\"dtCriacao\"]"
   ]
  },
  {
   "cell_type": "code",
   "execution_count": 48,
   "id": "1e364726",
   "metadata": {},
   "outputs": [],
   "source": [
    "# \n",
    "df[\"dtCriacao\"] = df[\"dtCriacao\"].replace({\n",
    "    \"0000-00-00 00:00:00.000\": \"2003-04-02 09:00:00.000\"\n",
    "})"
   ]
  },
  {
   "cell_type": "code",
   "execution_count": 49,
   "id": "f3847c25",
   "metadata": {},
   "outputs": [],
   "source": [
    "df[\"dtCriacao\"] = pd.to_datetime(df[\"dtCriacao\"])"
   ]
  },
  {
   "cell_type": "code",
   "execution_count": 56,
   "id": "e76b525c",
   "metadata": {},
   "outputs": [
    {
     "data": {
      "text/plain": [
       "0          NaN\n",
       "1          NaN\n",
       "2          NaN\n",
       "3       2003.0\n",
       "4          NaN\n",
       "         ...  \n",
       "2431       NaN\n",
       "2432    2025.0\n",
       "2433       NaN\n",
       "2434    2025.0\n",
       "2435       NaN\n",
       "Name: dtCriacao, Length: 2436, dtype: float64"
      ]
     },
     "execution_count": 56,
     "metadata": {},
     "output_type": "execute_result"
    }
   ],
   "source": [
    "df[\"dtCriacao\"].dt.year"
   ]
  }
 ],
 "metadata": {
  "kernelspec": {
   "display_name": "venv",
   "language": "python",
   "name": "python3"
  },
  "language_info": {
   "codemirror_mode": {
    "name": "ipython",
    "version": 3
   },
   "file_extension": ".py",
   "mimetype": "text/x-python",
   "name": "python",
   "nbconvert_exporter": "python",
   "pygments_lexer": "ipython3",
   "version": "3.12.3"
  }
 },
 "nbformat": 4,
 "nbformat_minor": 5
}
