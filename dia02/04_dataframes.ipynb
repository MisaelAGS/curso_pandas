{
 "cells": [
  {
   "cell_type": "code",
   "execution_count": null,
   "metadata": {},
   "outputs": [],
   "source": [
    "import pandas as pd\n",
    "\n",
    "df_clientes = pd.read_csv('../data/clientes.csv')\n",
    "df_clientes"
   ]
  },
  {
   "cell_type": "code",
   "execution_count": 5,
   "metadata": {},
   "outputs": [
    {
     "data": {
      "text/html": [
       "<div>\n",
       "<style scoped>\n",
       "    .dataframe tbody tr th:only-of-type {\n",
       "        vertical-align: middle;\n",
       "    }\n",
       "\n",
       "    .dataframe tbody tr th {\n",
       "        vertical-align: top;\n",
       "    }\n",
       "\n",
       "    .dataframe thead th {\n",
       "        text-align: right;\n",
       "    }\n",
       "</style>\n",
       "<table border=\"1\" class=\"dataframe\">\n",
       "  <thead>\n",
       "    <tr style=\"text-align: right;\">\n",
       "      <th></th>\n",
       "      <th>idCliente</th>\n",
       "      <th>flEmail</th>\n",
       "      <th>flTwitch</th>\n",
       "      <th>flYouTube</th>\n",
       "      <th>flBlueSky</th>\n",
       "      <th>flInstagram</th>\n",
       "      <th>qtdePontos</th>\n",
       "      <th>dtCriacao</th>\n",
       "      <th>dtAtualizacao</th>\n",
       "    </tr>\n",
       "  </thead>\n",
       "  <tbody>\n",
       "    <tr>\n",
       "      <th>0</th>\n",
       "      <td>000ff655-fa9f-4baa-a108-47f581ec52a1</td>\n",
       "      <td>0</td>\n",
       "      <td>0</td>\n",
       "      <td>0</td>\n",
       "      <td>0</td>\n",
       "      <td>0</td>\n",
       "      <td>686</td>\n",
       "      <td>NaN</td>\n",
       "      <td>NaN</td>\n",
       "    </tr>\n",
       "    <tr>\n",
       "      <th>1</th>\n",
       "      <td>001749bd-37b5-4b1e-8111-f9fbba90f530</td>\n",
       "      <td>0</td>\n",
       "      <td>0</td>\n",
       "      <td>0</td>\n",
       "      <td>0</td>\n",
       "      <td>0</td>\n",
       "      <td>50</td>\n",
       "      <td>NaN</td>\n",
       "      <td>NaN</td>\n",
       "    </tr>\n",
       "  </tbody>\n",
       "</table>\n",
       "</div>"
      ],
      "text/plain": [
       "                              idCliente  flEmail  flTwitch  flYouTube  \\\n",
       "0  000ff655-fa9f-4baa-a108-47f581ec52a1        0         0          0   \n",
       "1  001749bd-37b5-4b1e-8111-f9fbba90f530        0         0          0   \n",
       "\n",
       "   flBlueSky  flInstagram  qtdePontos dtCriacao dtAtualizacao  \n",
       "0          0            0         686       NaN           NaN  \n",
       "1          0            0          50       NaN           NaN  "
      ]
     },
     "execution_count": 5,
     "metadata": {},
     "output_type": "execute_result"
    }
   ],
   "source": [
    "# Método para exibir os primeiros registros do dataframe\n",
    "df_clientes.head(2)"
   ]
  },
  {
   "cell_type": "code",
   "execution_count": 7,
   "metadata": {},
   "outputs": [
    {
     "data": {
      "text/html": [
       "<div>\n",
       "<style scoped>\n",
       "    .dataframe tbody tr th:only-of-type {\n",
       "        vertical-align: middle;\n",
       "    }\n",
       "\n",
       "    .dataframe tbody tr th {\n",
       "        vertical-align: top;\n",
       "    }\n",
       "\n",
       "    .dataframe thead th {\n",
       "        text-align: right;\n",
       "    }\n",
       "</style>\n",
       "<table border=\"1\" class=\"dataframe\">\n",
       "  <thead>\n",
       "    <tr style=\"text-align: right;\">\n",
       "      <th></th>\n",
       "      <th>idCliente</th>\n",
       "      <th>flEmail</th>\n",
       "      <th>flTwitch</th>\n",
       "      <th>flYouTube</th>\n",
       "      <th>flBlueSky</th>\n",
       "      <th>flInstagram</th>\n",
       "      <th>qtdePontos</th>\n",
       "      <th>dtCriacao</th>\n",
       "      <th>dtAtualizacao</th>\n",
       "    </tr>\n",
       "  </thead>\n",
       "  <tbody>\n",
       "    <tr>\n",
       "      <th>2434</th>\n",
       "      <td>ff2cabd3-3316-4b3f-8494-c25f95e90524</td>\n",
       "      <td>0</td>\n",
       "      <td>1</td>\n",
       "      <td>0</td>\n",
       "      <td>0</td>\n",
       "      <td>0</td>\n",
       "      <td>57</td>\n",
       "      <td>2025-02-10 11:12:30.631</td>\n",
       "      <td>2025-02-10 12:37:47.892</td>\n",
       "    </tr>\n",
       "    <tr>\n",
       "      <th>2435</th>\n",
       "      <td>ff4909ad-4e52-4767-a6fc-0fbd76e37857</td>\n",
       "      <td>0</td>\n",
       "      <td>0</td>\n",
       "      <td>0</td>\n",
       "      <td>0</td>\n",
       "      <td>0</td>\n",
       "      <td>50</td>\n",
       "      <td>NaN</td>\n",
       "      <td>NaN</td>\n",
       "    </tr>\n",
       "  </tbody>\n",
       "</table>\n",
       "</div>"
      ],
      "text/plain": [
       "                                 idCliente  flEmail  flTwitch  flYouTube  \\\n",
       "2434  ff2cabd3-3316-4b3f-8494-c25f95e90524        0         1          0   \n",
       "2435  ff4909ad-4e52-4767-a6fc-0fbd76e37857        0         0          0   \n",
       "\n",
       "      flBlueSky  flInstagram  qtdePontos                dtCriacao  \\\n",
       "2434          0            0          57  2025-02-10 11:12:30.631   \n",
       "2435          0            0          50                      NaN   \n",
       "\n",
       "                dtAtualizacao  \n",
       "2434  2025-02-10 12:37:47.892  \n",
       "2435                      NaN  "
      ]
     },
     "execution_count": 7,
     "metadata": {},
     "output_type": "execute_result"
    }
   ],
   "source": [
    "# Método para exibir os últimos registros do dataframe\n",
    "df_clientes.tail(2)"
   ]
  },
  {
   "cell_type": "code",
   "execution_count": 13,
   "metadata": {},
   "outputs": [
    {
     "data": {
      "text/html": [
       "<div>\n",
       "<style scoped>\n",
       "    .dataframe tbody tr th:only-of-type {\n",
       "        vertical-align: middle;\n",
       "    }\n",
       "\n",
       "    .dataframe tbody tr th {\n",
       "        vertical-align: top;\n",
       "    }\n",
       "\n",
       "    .dataframe thead th {\n",
       "        text-align: right;\n",
       "    }\n",
       "</style>\n",
       "<table border=\"1\" class=\"dataframe\">\n",
       "  <thead>\n",
       "    <tr style=\"text-align: right;\">\n",
       "      <th></th>\n",
       "      <th>idCliente</th>\n",
       "      <th>flEmail</th>\n",
       "      <th>flTwitch</th>\n",
       "      <th>flYouTube</th>\n",
       "      <th>flBlueSky</th>\n",
       "      <th>flInstagram</th>\n",
       "      <th>qtdePontos</th>\n",
       "      <th>dtCriacao</th>\n",
       "      <th>dtAtualizacao</th>\n",
       "    </tr>\n",
       "  </thead>\n",
       "  <tbody>\n",
       "    <tr>\n",
       "      <th>1376</th>\n",
       "      <td>8cf8e162-bcf1-4a68-9ea5-44ec75484734</td>\n",
       "      <td>0</td>\n",
       "      <td>1</td>\n",
       "      <td>0</td>\n",
       "      <td>0</td>\n",
       "      <td>0</td>\n",
       "      <td>1933</td>\n",
       "      <td>0000-00-00 00:00:00.000</td>\n",
       "      <td>2025-02-04 12:36:04.804</td>\n",
       "    </tr>\n",
       "    <tr>\n",
       "      <th>1523</th>\n",
       "      <td>9cc7ec77-ab80-4666-b0de-9ff0704da076</td>\n",
       "      <td>0</td>\n",
       "      <td>0</td>\n",
       "      <td>0</td>\n",
       "      <td>0</td>\n",
       "      <td>0</td>\n",
       "      <td>61</td>\n",
       "      <td>NaN</td>\n",
       "      <td>NaN</td>\n",
       "    </tr>\n",
       "  </tbody>\n",
       "</table>\n",
       "</div>"
      ],
      "text/plain": [
       "                                 idCliente  flEmail  flTwitch  flYouTube  \\\n",
       "1376  8cf8e162-bcf1-4a68-9ea5-44ec75484734        0         1          0   \n",
       "1523  9cc7ec77-ab80-4666-b0de-9ff0704da076        0         0          0   \n",
       "\n",
       "      flBlueSky  flInstagram  qtdePontos                dtCriacao  \\\n",
       "1376          0            0        1933  0000-00-00 00:00:00.000   \n",
       "1523          0            0          61                      NaN   \n",
       "\n",
       "                dtAtualizacao  \n",
       "1376  2025-02-04 12:36:04.804  \n",
       "1523                      NaN  "
      ]
     },
     "execution_count": 13,
     "metadata": {},
     "output_type": "execute_result"
    }
   ],
   "source": [
    "# Método para exibir registros aleatórios do dataframe\n",
    "df_clientes.sample(2)"
   ]
  },
  {
   "cell_type": "code",
   "execution_count": null,
   "metadata": {},
   "outputs": [
    {
     "data": {
      "text/plain": [
       "(2436, 9)"
      ]
     },
     "execution_count": 14,
     "metadata": {},
     "output_type": "execute_result"
    }
   ],
   "source": [
    "# Atributo para exibir as dimensões do dataframe (linhas x colunas)\n",
    "df_clientes.shape"
   ]
  },
  {
   "cell_type": "code",
   "execution_count": null,
   "metadata": {},
   "outputs": [
    {
     "data": {
      "text/plain": [
       "Index(['idCliente', 'flEmail', 'flTwitch', 'flYouTube', 'flBlueSky',\n",
       "       'flInstagram', 'qtdePontos', 'dtCriacao', 'dtAtualizacao'],\n",
       "      dtype='object')"
      ]
     },
     "execution_count": 16,
     "metadata": {},
     "output_type": "execute_result"
    }
   ],
   "source": [
    "# Atributo para exibir o nome das colunas do dataframe\n",
    "df_clientes.columns"
   ]
  },
  {
   "cell_type": "code",
   "execution_count": null,
   "metadata": {},
   "outputs": [
    {
     "data": {
      "text/plain": [
       "RangeIndex(start=0, stop=2436, step=1)"
      ]
     },
     "execution_count": 17,
     "metadata": {},
     "output_type": "execute_result"
    }
   ],
   "source": [
    "# Atributo para exibir o intervalo de índices do dataframe\n",
    "df_clientes.index"
   ]
  },
  {
   "cell_type": "code",
   "execution_count": 18,
   "metadata": {},
   "outputs": [
    {
     "name": "stdout",
     "output_type": "stream",
     "text": [
      "<class 'pandas.core.frame.DataFrame'>\n",
      "RangeIndex: 2436 entries, 0 to 2435\n",
      "Data columns (total 9 columns):\n",
      " #   Column         Non-Null Count  Dtype \n",
      "---  ------         --------------  ----- \n",
      " 0   idCliente      2436 non-null   object\n",
      " 1   flEmail        2436 non-null   int64 \n",
      " 2   flTwitch       2436 non-null   int64 \n",
      " 3   flYouTube      2436 non-null   int64 \n",
      " 4   flBlueSky      2436 non-null   int64 \n",
      " 5   flInstagram    2436 non-null   int64 \n",
      " 6   qtdePontos     2436 non-null   int64 \n",
      " 7   dtCriacao      834 non-null    object\n",
      " 8   dtAtualizacao  834 non-null    object\n",
      "dtypes: int64(6), object(3)\n",
      "memory usage: 171.4+ KB\n"
     ]
    }
   ],
   "source": [
    "# Método para exibir as informações do dataframe\n",
    "df_clientes.info()"
   ]
  },
  {
   "cell_type": "code",
   "execution_count": 19,
   "metadata": {},
   "outputs": [
    {
     "name": "stdout",
     "output_type": "stream",
     "text": [
      "<class 'pandas.core.frame.DataFrame'>\n",
      "RangeIndex: 2436 entries, 0 to 2435\n",
      "Data columns (total 9 columns):\n",
      " #   Column         Non-Null Count  Dtype \n",
      "---  ------         --------------  ----- \n",
      " 0   idCliente      2436 non-null   object\n",
      " 1   flEmail        2436 non-null   int64 \n",
      " 2   flTwitch       2436 non-null   int64 \n",
      " 3   flYouTube      2436 non-null   int64 \n",
      " 4   flBlueSky      2436 non-null   int64 \n",
      " 5   flInstagram    2436 non-null   int64 \n",
      " 6   qtdePontos     2436 non-null   int64 \n",
      " 7   dtCriacao      834 non-null    object\n",
      " 8   dtAtualizacao  834 non-null    object\n",
      "dtypes: int64(6), object(3)\n",
      "memory usage: 533.9 KB\n"
     ]
    }
   ],
   "source": [
    "# Método para exibir a quantidade de memória ram que o dataframe está ocupando\n",
    "df_clientes.info(memory_usage='deep')"
   ]
  },
  {
   "cell_type": "code",
   "execution_count": 27,
   "metadata": {},
   "outputs": [
    {
     "data": {
      "text/plain": [
       "idCliente        object\n",
       "flEmail           int64\n",
       "flTwitch          int64\n",
       "flYouTube         int64\n",
       "flBlueSky         int64\n",
       "flInstagram       int64\n",
       "qtdePontos        int64\n",
       "dtCriacao        object\n",
       "dtAtualizacao    object\n",
       "dtype: object"
      ]
     },
     "execution_count": 27,
     "metadata": {},
     "output_type": "execute_result"
    }
   ],
   "source": [
    "# Exibir Series com a relação de nome da coluna e tipo de dados.\n",
    "df_clientes.dtypes"
   ]
  },
  {
   "cell_type": "code",
   "execution_count": 28,
   "metadata": {},
   "outputs": [
    {
     "data": {
      "text/plain": [
       "dtype('int64')"
      ]
     },
     "execution_count": 28,
     "metadata": {},
     "output_type": "execute_result"
    }
   ],
   "source": [
    "df_clientes.dtypes[\"qtdePontos\"]"
   ]
  }
 ],
 "metadata": {
  "kernelspec": {
   "display_name": "venv",
   "language": "python",
   "name": "python3"
  },
  "language_info": {
   "codemirror_mode": {
    "name": "ipython",
    "version": 3
   },
   "file_extension": ".py",
   "mimetype": "text/x-python",
   "name": "python",
   "nbconvert_exporter": "python",
   "pygments_lexer": "ipython3",
   "version": "3.12.3"
  }
 },
 "nbformat": 4,
 "nbformat_minor": 2
}
