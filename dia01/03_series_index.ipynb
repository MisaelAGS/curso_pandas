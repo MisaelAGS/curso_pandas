{
 "cells": [
  {
   "cell_type": "code",
   "execution_count": 13,
   "metadata": {},
   "outputs": [
    {
     "data": {
      "text/plain": [
       "0    14\n",
       "1     4\n",
       "2    33\n",
       "3    54\n",
       "4    65\n",
       "5    23\n",
       "6    61\n",
       "7    12\n",
       "8    34\n",
       "dtype: int64"
      ]
     },
     "execution_count": 13,
     "metadata": {},
     "output_type": "execute_result"
    }
   ],
   "source": [
    "import pandas as pd\n",
    "\n",
    "idades = [14, 4, 33, 54, 65, 23, 61, 12, 34]\n",
    "idades_series = pd.Series(idades)\n",
    "idades_series"
   ]
  },
  {
   "cell_type": "code",
   "execution_count": 14,
   "metadata": {},
   "outputs": [
    {
     "data": {
      "text/plain": [
       "np.int64(14)"
      ]
     },
     "execution_count": 14,
     "metadata": {},
     "output_type": "execute_result"
    }
   ],
   "source": [
    "# Ponto importante: o índice é vinculado ao valor da elemento. Mesmo alterando a ordem dos elementos da \n",
    "# Séries, cada elemento permanecerá com o mesmo índice.\n",
    "\n",
    "# Acessando o elemento de primeiro índice da Series.\n",
    "idades_series[0]"
   ]
  },
  {
   "cell_type": "code",
   "execution_count": 15,
   "metadata": {},
   "outputs": [
    {
     "data": {
      "text/plain": [
       "1     4\n",
       "7    12\n",
       "0    14\n",
       "5    23\n",
       "2    33\n",
       "8    34\n",
       "3    54\n",
       "6    61\n",
       "4    65\n",
       "dtype: int64"
      ]
     },
     "execution_count": 15,
     "metadata": {},
     "output_type": "execute_result"
    }
   ],
   "source": [
    "# ordenando a Series\n",
    "idades_series = idades_series.sort_values()\n",
    "idades_series"
   ]
  },
  {
   "cell_type": "code",
   "execution_count": 16,
   "metadata": {},
   "outputs": [],
   "source": [
    "# Posição <> Índice\n",
    "# ìndice está associado a cada elemente, como um dicionário. Já a posição dos elementos pode ser alterada."
   ]
  },
  {
   "cell_type": "code",
   "execution_count": null,
   "metadata": {},
   "outputs": [
    {
     "name": "stdout",
     "output_type": "stream",
     "text": [
      "Elemeto da primeira posição: 4\n",
      "Elemento da última posição: 65\n"
     ]
    }
   ],
   "source": [
    "# iloc\n",
    "# É usado para selecionar o elemento pela posição.\n",
    "# Navegação pelos índices.\n",
    "# Elemento da primeira posição\n",
    "primeira_posicao = idades_series.iloc[0]\n",
    "print(f'Elemeto da primeira posição: {primeira_posicao}')\n",
    "ultima_posicao = idades_series.iloc[-1]\n",
    "print(f'Elemento da última posição: {ultima_posicao}')"
   ]
  },
  {
   "cell_type": "code",
   "execution_count": null,
   "metadata": {},
   "outputs": [
    {
     "name": "stdout",
     "output_type": "stream",
     "text": [
      "Elemento do primeiro índice: 14\n",
      "Elemento do último índice: 34\n"
     ]
    }
   ],
   "source": [
    "# loc\n",
    "# É usado para selecionar o elemento pelo índice.\n",
    "# Navegação pelas linhas.\n",
    "# Elemento do primeiro índice.\n",
    "primeiro_indice = idades_series.loc[0]\n",
    "print(f'Elemento do primeiro índice: {primeiro_indice}')\n",
    "ultimo_indice = idades_series.loc[8]\n",
    "print(f'Elemento do último índice: {ultimo_indice}')"
   ]
  },
  {
   "cell_type": "code",
   "execution_count": null,
   "metadata": {},
   "outputs": [],
   "source": []
  }
 ],
 "metadata": {
  "kernelspec": {
   "display_name": "venv",
   "language": "python",
   "name": "python3"
  },
  "language_info": {
   "codemirror_mode": {
    "name": "ipython",
    "version": 3
   },
   "file_extension": ".py",
   "mimetype": "text/x-python",
   "name": "python",
   "nbconvert_exporter": "python",
   "pygments_lexer": "ipython3",
   "version": "3.12.3"
  }
 },
 "nbformat": 4,
 "nbformat_minor": 2
}
